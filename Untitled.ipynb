{
 "cells": [
  {
   "cell_type": "markdown",
   "id": "877c95da",
   "metadata": {},
   "source": [
    "### Import useful libraries"
   ]
  },
  {
   "cell_type": "code",
   "execution_count": 28,
   "id": "08c0dec3",
   "metadata": {},
   "outputs": [],
   "source": [
    "from bs4 import BeautifulSoup\n",
    "import requests\n",
    "import time\n",
    "import datetime\n",
    "import smtplib\n",
    "import csv \n",
    "import pandas as pd"
   ]
  },
  {
   "cell_type": "code",
   "execution_count": 24,
   "id": "e9845c0c",
   "metadata": {
    "scrolled": true
   },
   "outputs": [
    {
     "name": "stdout",
     "output_type": "stream",
     "text": [
      "\n",
      "            Lindt Prestige Selection Chocolate - 345g - A Joy to give, a Delight to Receive - A Selection of The Finest Milk, Dark and White Chocolates.\n",
      "           \n",
      "\n",
      "\n",
      "\n",
      "\n",
      "\n",
      "             $20.99\n",
      "            \n",
      "\n",
      "\n",
      "              $\n",
      "             \n",
      "\n",
      "              20\n",
      "              \n",
      "               .\n",
      "              \n",
      "\n",
      "\n",
      "              99\n",
      "             \n",
      "\n",
      "\n",
      "\n",
      "\n",
      "\n",
      "            (\n",
      "            \n",
      "\n",
      "              $6.08\n",
      "             \n",
      "\n",
      "              $6.08\n",
      "             \n",
      "\n",
      "            /100 g)\n",
      "           \n",
      "\n",
      "\n",
      "\n",
      "\n",
      "\n",
      "\n",
      "\n",
      "\n",
      "\n",
      "\n"
     ]
    }
   ],
   "source": [
    "# connect to website\n",
    "\n",
    "URL='https://www.amazon.com.au/Lindt-Prestige-Selection-Chocolate-Box/dp/B01IURR6R4/?_encoding=UTF8&pd_rd_w=s7koc&content-id=amzn1.sym.91e504f1-4b87-405a-a2d8-cf6c95b3e7d5&pf_rd_p=91e504f1-4b87-405a-a2d8-cf6c95b3e7d5&pf_rd_r=P9J9F78JN8FPNJ06SXH0&pd_rd_wg=px404&pd_rd_r=241e74d1-9e52-43f0-acfb-4b33ac31c89f&ref_=pd_gw_trq_ed_hlqx79hn'\n",
    "\n",
    "headers={\"User-Agent\": \"Mozilla/5.0 (Windows NT 10.0; Win64; x64) AppleWebKit/537.36 (KHTML, like Gecko) Chrome/112.0.0.0 Safari/537.36\"}\n",
    "\n",
    "page=requests.get(URL,headers=headers)\n",
    "\n",
    "soup1=BeautifulSoup(page.content, \"html.parser\")\n",
    "soup2=BeautifulSoup(soup1.prettify(),'html.parser')\n",
    "title=soup2.find(id='productTitle').get_text()\n",
    "price=soup2.find(id='corePriceDisplay_desktop_feature_div').get_text()\n",
    "\n",
    "print(title)\n",
    "print(price)\n",
    "                \n"
   ]
  },
  {
   "cell_type": "code",
   "execution_count": 25,
   "id": "d8627d6a",
   "metadata": {
    "scrolled": true
   },
   "outputs": [
    {
     "name": "stdout",
     "output_type": "stream",
     "text": [
      "Lindt Prestige Selection Chocolate - 345g - A Joy to give, a Delight to Receive - A Selection of The Finest Milk, Dark and White Chocolates.\n",
      "20.99\n"
     ]
    }
   ],
   "source": [
    "title=title.strip()[0:]\n",
    "price=price.strip()[1:6]\n",
    "\n",
    "print(title)\n",
    "print(price)"
   ]
  },
  {
   "cell_type": "code",
   "execution_count": 27,
   "id": "84dfc800",
   "metadata": {},
   "outputs": [
    {
     "name": "stdout",
     "output_type": "stream",
     "text": [
      "2023-04-18\n"
     ]
    }
   ],
   "source": [
    "today=datetime.date.today()\n",
    "print(today)"
   ]
  },
  {
   "cell_type": "code",
   "execution_count": 29,
   "id": "bddccaae",
   "metadata": {},
   "outputs": [],
   "source": [
    "header=['Title','Price','Date']\n",
    "data=[title,price,today]\n",
    "\n",
    "with open('AmazonWebScraperDS.csv','w',newline='',encoding='UTF8') as f:\n",
    "    writer=csv.writer(f)\n",
    "    writer.writerow(header)\n",
    "    writer.writerow(data)"
   ]
  },
  {
   "cell_type": "code",
   "execution_count": 30,
   "id": "cdb90423",
   "metadata": {},
   "outputs": [],
   "source": [
    "df=pd.read_csv('AmazonWebScraperDS.csv')"
   ]
  },
  {
   "cell_type": "code",
   "execution_count": 31,
   "id": "5bdc9f94",
   "metadata": {},
   "outputs": [
    {
     "data": {
      "text/html": [
       "<div>\n",
       "<style scoped>\n",
       "    .dataframe tbody tr th:only-of-type {\n",
       "        vertical-align: middle;\n",
       "    }\n",
       "\n",
       "    .dataframe tbody tr th {\n",
       "        vertical-align: top;\n",
       "    }\n",
       "\n",
       "    .dataframe thead th {\n",
       "        text-align: right;\n",
       "    }\n",
       "</style>\n",
       "<table border=\"1\" class=\"dataframe\">\n",
       "  <thead>\n",
       "    <tr style=\"text-align: right;\">\n",
       "      <th></th>\n",
       "      <th>Title</th>\n",
       "      <th>Price</th>\n",
       "      <th>Date</th>\n",
       "    </tr>\n",
       "  </thead>\n",
       "  <tbody>\n",
       "    <tr>\n",
       "      <th>0</th>\n",
       "      <td>Lindt Prestige Selection Chocolate - 345g - A ...</td>\n",
       "      <td>20.99</td>\n",
       "      <td>2023-04-18</td>\n",
       "    </tr>\n",
       "  </tbody>\n",
       "</table>\n",
       "</div>"
      ],
      "text/plain": [
       "                                               Title  Price        Date\n",
       "0  Lindt Prestige Selection Chocolate - 345g - A ...  20.99  2023-04-18"
      ]
     },
     "execution_count": 31,
     "metadata": {},
     "output_type": "execute_result"
    }
   ],
   "source": [
    "df"
   ]
  },
  {
   "cell_type": "code",
   "execution_count": null,
   "id": "fa15a29b",
   "metadata": {},
   "outputs": [],
   "source": []
  }
 ],
 "metadata": {
  "kernelspec": {
   "display_name": "Python 3 (ipykernel)",
   "language": "python",
   "name": "python3"
  },
  "language_info": {
   "codemirror_mode": {
    "name": "ipython",
    "version": 3
   },
   "file_extension": ".py",
   "mimetype": "text/x-python",
   "name": "python",
   "nbconvert_exporter": "python",
   "pygments_lexer": "ipython3",
   "version": "3.9.13"
  }
 },
 "nbformat": 4,
 "nbformat_minor": 5
}
