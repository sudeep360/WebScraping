{
 "cells": [
  {
   "cell_type": "markdown",
   "id": "5146f05c",
   "metadata": {},
   "source": [
    "### Import useful libraries"
   ]
  },
  {
   "cell_type": "code",
   "execution_count": 35,
   "id": "87e81a3d",
   "metadata": {},
   "outputs": [],
   "source": [
    "from bs4 import BeautifulSoup\n",
    "import requests\n",
    "import time\n",
    "import datetime\n",
    "import smtplib\n",
    "import csv \n",
    "import pandas as pd"
   ]
  },
  {
   "cell_type": "code",
   "execution_count": 36,
   "id": "7e9a339e",
   "metadata": {},
   "outputs": [],
   "source": [
    "# Getting the amazon best sellers today"
   ]
  },
  {
   "cell_type": "code",
   "execution_count": 50,
   "id": "2ac5655e",
   "metadata": {
    "scrolled": true
   },
   "outputs": [
    {
     "name": "stdout",
     "output_type": "stream",
     "text": [
      "\n",
      "            Black Adam BD\n",
      "           \n",
      "\n",
      "\n",
      "\n",
      "\n",
      "            -44%\n",
      "           \n",
      "\n",
      "\n",
      "             $14.99\n",
      "            \n",
      "\n",
      "\n",
      "              $\n",
      "             \n",
      "\n",
      "              14\n",
      "              \n",
      "               .\n",
      "              \n",
      "\n",
      "\n",
      "              99\n",
      "             \n",
      "\n",
      "\n",
      "\n",
      "\n",
      "\n",
      "\n",
      "\n",
      "\n",
      "             Was:\n",
      "             \n",
      "\n",
      "               $26.99\n",
      "              \n",
      "\n",
      "               $26.99\n",
      "              \n",
      "\n",
      "\n",
      "\n",
      "\n",
      "\n",
      "\n",
      "\n",
      "\n",
      "\n",
      "\n",
      "\n",
      "\n",
      "\n",
      "\n",
      "\n",
      "\n",
      "\n",
      "                Was Price\n",
      "               \n",
      "\n",
      "                Was Price refers to the price at which this product (or a variation of this product —e.g. a different size or colour of this product) was recently sold on Amazon AU.\n",
      "               \n",
      "\n",
      "\n",
      "\n",
      "\n",
      "\n",
      "\n",
      "\n",
      "\n"
     ]
    }
   ],
   "source": [
    "# connect to website\n",
    "\n",
    "URL='https://www.amazon.com.au/Black-Adam-BD-Dwayne-Johnson/dp/B0BKTFL82F/ref=zg-bs_movies-and-tv_sccl_1/356-1144943-6128746?pd_rd_w=D6pjO&content-id=amzn1.sym.89547fba-a5ef-4760-b92f-b6a84bf310c4&pf_rd_p=89547fba-a5ef-4760-b92f-b6a84bf310c4&pf_rd_r=QM2QKGKXA9QX1NVDNDXZ&pd_rd_wg=Vu6Bk&pd_rd_r=42c0d657-e966-4ccf-9cf3-edaa917f10d8&pd_rd_i=B0BKTFL82F&psc=1'\n",
    "\n",
    "headers = {\"User-Agent\": \"Mozilla/5.0 (Windows NT 10.0; Win64; x64) AppleWebKit/537.36 (KHTML, like Gecko) Chrome/78.0.3904.108 Safari/537.36\", \"Accept-Encoding\":\"gzip, deflate\", \"Accept\":\"text/html,application/xhtml+xml,application/xml;q=0.9,*/*;q=0.8\", \"DNT\":\"1\",\"Connection\":\"close\", \"Upgrade-Insecure-Requests\":\"1\"}\n",
    "\n",
    "page=requests.get(URL,headers=headers)\n",
    "\n",
    "soup1=BeautifulSoup(page.content, \"html.parser\")\n",
    "soup2=BeautifulSoup(soup1.prettify(),'html.parser')\n",
    "title=soup2.find(id='productTitle').get_text()\n",
    "price=soup2.find(id='corePriceDisplay_desktop_feature_div').get_text()\n",
    "\n",
    "print(title)\n",
    "print(price)\n",
    "                \n"
   ]
  },
  {
   "cell_type": "code",
   "execution_count": 51,
   "id": "515034b8",
   "metadata": {
    "scrolled": true
   },
   "outputs": [
    {
     "name": "stdout",
     "output_type": "stream",
     "text": [
      "Black Adam BD\n",
      "\n",
      "\n",
      "\n",
      "\n",
      "            -44%\n",
      "           \n",
      "\n",
      "\n",
      "             $14.99\n",
      "            \n",
      "\n",
      "\n",
      "              $\n",
      "             \n",
      "\n",
      "              14\n",
      "              \n",
      "               .\n",
      "              \n",
      "\n",
      "\n",
      "              99\n",
      "             \n",
      "\n",
      "\n",
      "\n",
      "\n",
      "\n",
      "\n",
      "\n",
      "\n",
      "             Was:\n",
      "             \n",
      "\n",
      "               $26.99\n",
      "              \n",
      "\n",
      "               $26.99\n",
      "              \n",
      "\n",
      "\n",
      "\n",
      "\n",
      "\n",
      "\n",
      "\n",
      "\n",
      "\n",
      "\n",
      "\n",
      "\n",
      "\n",
      "\n",
      "\n",
      "\n",
      "\n",
      "                Was Price\n",
      "               \n",
      "\n",
      "                Was Price refers to the price at which this product (or a variation of this product —e.g. a different size or colour of this product) was recently sold on Amazon AU.\n",
      "               \n",
      "\n",
      "\n",
      "\n",
      "\n",
      "\n",
      "\n",
      "\n",
      "\n",
      "44%\n",
      " \n"
     ]
    }
   ],
   "source": [
    "title=title.strip()[0:]\n",
    "discount=price.strip()[1:6]\n",
    "price=price.strip('*')\n",
    "\n",
    "print(title)\n",
    "print(price)\n",
    "print(discount)"
   ]
  },
  {
   "cell_type": "code",
   "execution_count": 27,
   "id": "846dfeb5",
   "metadata": {},
   "outputs": [
    {
     "name": "stdout",
     "output_type": "stream",
     "text": [
      "2023-04-18\n"
     ]
    }
   ],
   "source": [
    "today=datetime.date.today()\n",
    "print(today)"
   ]
  },
  {
   "cell_type": "code",
   "execution_count": 29,
   "id": "414a427c",
   "metadata": {},
   "outputs": [],
   "source": [
    "header=['Title','Price','Date']\n",
    "data=[title,price,today]\n",
    "\n",
    "with open('AmazonWebScraperDS.csv','w',newline='',encoding='UTF8') as f:\n",
    "    writer=csv.writer(f)\n",
    "    writer.writerow(header)\n",
    "    writer.writerow(data)"
   ]
  },
  {
   "cell_type": "code",
   "execution_count": 30,
   "id": "9e345e9f",
   "metadata": {},
   "outputs": [],
   "source": [
    "df=pd.read_csv('AmazonWebScraperDS.csv')"
   ]
  },
  {
   "cell_type": "code",
   "execution_count": 31,
   "id": "476461a1",
   "metadata": {},
   "outputs": [
    {
     "data": {
      "text/html": [
       "<div>\n",
       "<style scoped>\n",
       "    .dataframe tbody tr th:only-of-type {\n",
       "        vertical-align: middle;\n",
       "    }\n",
       "\n",
       "    .dataframe tbody tr th {\n",
       "        vertical-align: top;\n",
       "    }\n",
       "\n",
       "    .dataframe thead th {\n",
       "        text-align: right;\n",
       "    }\n",
       "</style>\n",
       "<table border=\"1\" class=\"dataframe\">\n",
       "  <thead>\n",
       "    <tr style=\"text-align: right;\">\n",
       "      <th></th>\n",
       "      <th>Title</th>\n",
       "      <th>Price</th>\n",
       "      <th>Date</th>\n",
       "    </tr>\n",
       "  </thead>\n",
       "  <tbody>\n",
       "    <tr>\n",
       "      <th>0</th>\n",
       "      <td>Lindt Prestige Selection Chocolate - 345g - A ...</td>\n",
       "      <td>20.99</td>\n",
       "      <td>2023-04-18</td>\n",
       "    </tr>\n",
       "  </tbody>\n",
       "</table>\n",
       "</div>"
      ],
      "text/plain": [
       "                                               Title  Price        Date\n",
       "0  Lindt Prestige Selection Chocolate - 345g - A ...  20.99  2023-04-18"
      ]
     },
     "execution_count": 31,
     "metadata": {},
     "output_type": "execute_result"
    }
   ],
   "source": [
    "df"
   ]
  },
  {
   "cell_type": "code",
   "execution_count": null,
   "id": "9ccd5488",
   "metadata": {},
   "outputs": [],
   "source": []
  }
 ],
 "metadata": {
  "kernelspec": {
   "display_name": "Python 3 (ipykernel)",
   "language": "python",
   "name": "python3"
  },
  "language_info": {
   "codemirror_mode": {
    "name": "ipython",
    "version": 3
   },
   "file_extension": ".py",
   "mimetype": "text/x-python",
   "name": "python",
   "nbconvert_exporter": "python",
   "pygments_lexer": "ipython3",
   "version": "3.9.13"
  }
 },
 "nbformat": 4,
 "nbformat_minor": 5
}
